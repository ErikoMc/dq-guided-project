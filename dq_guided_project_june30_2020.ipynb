{
  "nbformat": 4,
  "nbformat_minor": 0,
  "metadata": {
    "kernelspec": {
      "display_name": "Python 3",
      "language": "python",
      "name": "python3"
    },
    "language_info": {
      "codemirror_mode": {
        "name": "ipython",
        "version": 3
      },
      "file_extension": ".py",
      "mimetype": "text/x-python",
      "name": "python",
      "nbconvert_exporter": "python",
      "pygments_lexer": "ipython3",
      "version": "3.7.6"
    },
    "colab": {
      "name": "dq-guided-project-june30-2020.ipynb",
      "provenance": [],
      "collapsed_sections": [],
      "include_colab_link": true
    }
  },
  "cells": [
    {
      "cell_type": "markdown",
      "metadata": {
        "id": "view-in-github",
        "colab_type": "text"
      },
      "source": [
        "<a href=\"https://colab.research.google.com/github/ErikoMc/dq-guided-project/blob/master/dq_guided_project_june30_2020.ipynb\" target=\"_parent\"><img src=\"https://colab.research.google.com/assets/colab-badge.svg\" alt=\"Open In Colab\"/></a>"
      ]
    },
    {
      "cell_type": "markdown",
      "metadata": {
        "id": "-oiYYI4c3jBT",
        "colab_type": "text"
      },
      "source": [
        "# Profitable Apps Profiles for the Apple Store and Google Play Markets\n",
        "\n",
        "The purpose of this project is too analyze data to help our developers understand what type of apps are likely to attract more users.  We will build apps that are free to download and install.  Therefore, our main source of revenue consists of in-app ads.  We will identify the type of apps that is mostly influenced by the number of users.\n",
        "\n",
        "**Data Sets**\n",
        "- A data set containing Android apps from Google Play\n",
        "- A data set containing iOS apps from Apple Store\n"
      ]
    },
    {
      "cell_type": "code",
      "metadata": {
        "id": "BlvKXMqf3jBU",
        "colab_type": "code",
        "colab": {}
      },
      "source": [
        "# define a function to explore data sets\n",
        "def explore_data(dataset, start, end, rows_and_columns=False):\n",
        "    dataset_slice = dataset[start:end]\n",
        "    for row in dataset_slice:\n",
        "        print(row)\n",
        "        print('\\n') # adds a new (empty) line after each row\n",
        "    if rows_and_columns:\n",
        "        print('Number of rows:', len(dataset))\n",
        "        print('Number of columns:', len(dataset[0]))"
      ],
      "execution_count": 35,
      "outputs": []
    },
    {
      "cell_type": "code",
      "metadata": {
        "id": "2jNLcXWjucoH",
        "colab_type": "code",
        "colab": {
          "resources": {
            "http://localhost:8080/nbextensions/google.colab/files.js": {
              "data": "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",
              "ok": true,
              "headers": [
                [
                  "content-type",
                  "application/javascript"
                ]
              ],
              "status": 200,
              "status_text": ""
            }
          },
          "base_uri": "https://localhost:8080/",
          "height": 108
        },
        "outputId": "e869ac39-a3cd-4945-b907-310db5158509"
      },
      "source": [
        "from google.colab import files\n",
        "uploaded = files.upload()"
      ],
      "execution_count": 36,
      "outputs": [
        {
          "output_type": "display_data",
          "data": {
            "text/html": [
              "\n",
              "     <input type=\"file\" id=\"files-53718380-443d-483f-8f61-84dfd71e1359\" name=\"files[]\" multiple disabled\n",
              "        style=\"border:none\" />\n",
              "     <output id=\"result-53718380-443d-483f-8f61-84dfd71e1359\">\n",
              "      Upload widget is only available when the cell has been executed in the\n",
              "      current browser session. Please rerun this cell to enable.\n",
              "      </output>\n",
              "      <script src=\"/nbextensions/google.colab/files.js\"></script> "
            ],
            "text/plain": [
              "<IPython.core.display.HTML object>"
            ]
          },
          "metadata": {
            "tags": []
          }
        },
        {
          "output_type": "stream",
          "text": [
            "Saving AppleStore.csv to AppleStore (1).csv\n",
            "Saving googleplaystore.csv to googleplaystore (1).csv\n"
          ],
          "name": "stdout"
        }
      ]
    },
    {
      "cell_type": "code",
      "metadata": {
        "id": "33zzghE_3jBY",
        "colab_type": "code",
        "colab": {}
      },
      "source": [
        "from csv import reader\n",
        "\n",
        "# The Google Play data set\n",
        "opened_file = open('googleplaystore.csv')\n",
        "read_file = reader(opened_file)\n",
        "android = list(read_file)\n",
        "android_header = android[0]\n",
        "android = android[1:]\n",
        "\n",
        "# The Apple Store data set\n",
        "opened_file = open('AppleStore.csv')\n",
        "read_file = reader(opened_file)\n",
        "ios = list(read_file)\n",
        "ios_header = ios[0]\n",
        "iso = ios[1:]"
      ],
      "execution_count": 37,
      "outputs": []
    },
    {
      "cell_type": "code",
      "metadata": {
        "id": "YebGh4O73jBd",
        "colab_type": "code",
        "colab": {
          "base_uri": "https://localhost:8080/",
          "height": 231
        },
        "outputId": "3d92ce51-4d31-4030-a391-7ec9527d2805"
      },
      "source": [
        "# explore the Google Play dataset\n",
        "# print first few rows and print numbers of rows and columns\n",
        "explore_data(android, 0, 3, True)"
      ],
      "execution_count": 38,
      "outputs": [
        {
          "output_type": "stream",
          "text": [
            "['Photo Editor & Candy Camera & Grid & ScrapBook', 'ART_AND_DESIGN', '4.1', '159', '19M', '10,000+', 'Free', '0', 'Everyone', 'Art & Design', 'January 7, 2018', '1.0.0', '4.0.3 and up']\n",
            "\n",
            "\n",
            "['Coloring book moana', 'ART_AND_DESIGN', '3.9', '967', '14M', '500,000+', 'Free', '0', 'Everyone', 'Art & Design;Pretend Play', 'January 15, 2018', '2.0.0', '4.0.3 and up']\n",
            "\n",
            "\n",
            "['U Launcher Lite – FREE Live Cool Themes, Hide Apps', 'ART_AND_DESIGN', '4.7', '87510', '8.7M', '5,000,000+', 'Free', '0', 'Everyone', 'Art & Design', 'August 1, 2018', '1.2.4', '4.0.3 and up']\n",
            "\n",
            "\n",
            "Number of rows: 10841\n",
            "Number of columns: 13\n"
          ],
          "name": "stdout"
        }
      ]
    },
    {
      "cell_type": "code",
      "metadata": {
        "id": "21j-IJdW7ylv",
        "colab_type": "code",
        "colab": {
          "base_uri": "https://localhost:8080/",
          "height": 211
        },
        "outputId": "111040f9-ae1a-403c-ea95-45ff631de765"
      },
      "source": [
        "# explore the Apple Store data set\n",
        "# print first few rows and print numbers of rows and columns\n",
        "explore_data(iso, 0, 3, True)"
      ],
      "execution_count": 39,
      "outputs": [
        {
          "output_type": "stream",
          "text": [
            "['284882215', 'Facebook', '389879808', 'USD', '0.0', '2974676', '212', '3.5', '3.5', '95.0', '4+', 'Social Networking', '37', '1', '29', '1']\n",
            "\n",
            "\n",
            "['389801252', 'Instagram', '113954816', 'USD', '0.0', '2161558', '1289', '4.5', '4.0', '10.23', '12+', 'Photo & Video', '37', '0', '29', '1']\n",
            "\n",
            "\n",
            "['529479190', 'Clash of Clans', '116476928', 'USD', '0.0', '2130805', '579', '4.5', '4.5', '9.24.12', '9+', 'Games', '38', '5', '18', '1']\n",
            "\n",
            "\n",
            "Number of rows: 7197\n",
            "Number of columns: 16\n"
          ],
          "name": "stdout"
        }
      ]
    },
    {
      "cell_type": "code",
      "metadata": {
        "id": "KJ_sohTj-Op0",
        "colab_type": "code",
        "colab": {
          "base_uri": "https://localhost:8080/",
          "height": 55
        },
        "outputId": "762fc82c-a3fb-4beb-f7c9-badf768647d5"
      },
      "source": [
        "# print the column names for the Google Play data set\n",
        "print(android_header)"
      ],
      "execution_count": 40,
      "outputs": [
        {
          "output_type": "stream",
          "text": [
            "['App', 'Category', 'Rating', 'Reviews', 'Size', 'Installs', 'Type', 'Price', 'Content Rating', 'Genres', 'Last Updated', 'Current Ver', 'Android Ver']\n"
          ],
          "name": "stdout"
        }
      ]
    },
    {
      "cell_type": "code",
      "metadata": {
        "id": "yCZDJDd1-uNv",
        "colab_type": "code",
        "colab": {
          "base_uri": "https://localhost:8080/",
          "height": 55
        },
        "outputId": "2522823b-cfc9-4582-95a9-aec05f791b7f"
      },
      "source": [
        "# print the column names for the Apple Store data set\n",
        "print(ios_header)"
      ],
      "execution_count": 41,
      "outputs": [
        {
          "output_type": "stream",
          "text": [
            "['id', 'track_name', 'size_bytes', 'currency', 'price', 'rating_count_tot', 'rating_count_ver', 'user_rating', 'user_rating_ver', 'ver', 'cont_rating', 'prime_genre', 'sup_devices.num', 'ipadSc_urls.num', 'lang.num', 'vpp_lic']\n"
          ],
          "name": "stdout"
        }
      ]
    },
    {
      "cell_type": "markdown",
      "metadata": {
        "id": "LxQyHCw6ANus",
        "colab_type": "text"
      },
      "source": [
        "\n",
        "\n",
        "*   The Google Play data set has 10841 apps and 13 columns.  The columns that might be useful for our analysis are 'App', 'Category', 'Reviews', 'Installs', 'Type', 'Price', and 'genre'.  The detail about each column can be found in the [documentation](https://www.kaggle.com/lava18/google-play-store-apps).\n",
        "*   The Apple Store data set has 7197 apps and 16 columns.  The columns that might be useful for our analysis are 'track_name', 'currency', 'price', 'rating_count_tot', 'rating_count_ver', and 'prime_genre'.  The detail about each column can be found in the [documentation](https://www.kaggle.com/ramamet4/app-store-apple-data-set-10k-apps).\n",
        "\n"
      ]
    },
    {
      "cell_type": "markdown",
      "metadata": {
        "id": "QcGFAVGRHY8M",
        "colab_type": "text"
      },
      "source": [
        "**Data Cleaning: Deleting Wrong Data**\n",
        "\n",
        "The [one of the discussions](https://www.kaggle.com/lava18/google-play-store-apps/discussion/66015) describes that there is a wrong rating for entry 10472 in the Google Play data set.  We will find this entry and delete it if the error is confirmed.\n",
        "\n"
      ]
    },
    {
      "cell_type": "code",
      "metadata": {
        "id": "xiILA6agJRSD",
        "colab_type": "code",
        "colab": {
          "base_uri": "https://localhost:8080/",
          "height": 125
        },
        "outputId": "d3424f1b-279a-4e78-b197-890063d1f91c"
      },
      "source": [
        "print(android_header)\n",
        "print('\\n')\n",
        "print(android[10472]) # row 10472\n",
        "print(android[0]) # correct row"
      ],
      "execution_count": 42,
      "outputs": [
        {
          "output_type": "stream",
          "text": [
            "['App', 'Category', 'Rating', 'Reviews', 'Size', 'Installs', 'Type', 'Price', 'Content Rating', 'Genres', 'Last Updated', 'Current Ver', 'Android Ver']\n",
            "\n",
            "\n",
            "['Life Made WI-Fi Touchscreen Photo Frame', '1.9', '19', '3.0M', '1,000+', 'Free', '0', 'Everyone', '', 'February 11, 2018', '1.0.19', '4.0 and up']\n",
            "['Photo Editor & Candy Camera & Grid & ScrapBook', 'ART_AND_DESIGN', '4.1', '159', '19M', '10,000+', 'Free', '0', 'Everyone', 'Art & Design', 'January 7, 2018', '1.0.0', '4.0.3 and up']\n"
          ],
          "name": "stdout"
        }
      ]
    },
    {
      "cell_type": "markdown",
      "metadata": {
        "id": "OvmJRIbbKUH2",
        "colab_type": "text"
      },
      "source": [
        "By comparing the row 10472 and the correct row, it seems the cotegory of the row 10472 is missing."
      ]
    },
    {
      "cell_type": "code",
      "metadata": {
        "id": "CIgaTCmaK52x",
        "colab_type": "code",
        "colab": {
          "base_uri": "https://localhost:8080/",
          "height": 52
        },
        "outputId": "9c347c02-6752-4637-8c9e-5c3d91353d54"
      },
      "source": [
        "print(len(android))\n",
        "# delete the row 10472\n",
        "del android[10472]\n",
        "# make sure that only one row is deleted\n",
        "print(len(android))"
      ],
      "execution_count": 43,
      "outputs": [
        {
          "output_type": "stream",
          "text": [
            "10841\n",
            "10840\n"
          ],
          "name": "stdout"
        }
      ]
    },
    {
      "cell_type": "markdown",
      "metadata": {
        "id": "_V2FymNOPBtK",
        "colab_type": "text"
      },
      "source": [
        "**Data Cleaning: Removing Duplicate Entries**\n",
        "\n",
        "For example, there are duplicate entries for \"Instagram\" in the Google Play data set."
      ]
    },
    {
      "cell_type": "code",
      "metadata": {
        "id": "uNY7YbEkLCZt",
        "colab_type": "code",
        "colab": {
          "base_uri": "https://localhost:8080/",
          "height": 107
        },
        "outputId": "05f7c414-f373-4147-8fdd-27b0e7c23d7f"
      },
      "source": [
        "for app in android:\n",
        "  name = app[0]\n",
        "  if name == 'Instagram':\n",
        "    print(app)"
      ],
      "execution_count": 44,
      "outputs": [
        {
          "output_type": "stream",
          "text": [
            "['Instagram', 'SOCIAL', '4.5', '66577313', 'Varies with device', '1,000,000,000+', 'Free', '0', 'Teen', 'Social', 'July 31, 2018', 'Varies with device', 'Varies with device']\n",
            "['Instagram', 'SOCIAL', '4.5', '66577446', 'Varies with device', '1,000,000,000+', 'Free', '0', 'Teen', 'Social', 'July 31, 2018', 'Varies with device', 'Varies with device']\n",
            "['Instagram', 'SOCIAL', '4.5', '66577313', 'Varies with device', '1,000,000,000+', 'Free', '0', 'Teen', 'Social', 'July 31, 2018', 'Varies with device', 'Varies with device']\n",
            "['Instagram', 'SOCIAL', '4.5', '66509917', 'Varies with device', '1,000,000,000+', 'Free', '0', 'Teen', 'Social', 'July 31, 2018', 'Varies with device', 'Varies with device']\n"
          ],
          "name": "stdout"
        }
      ]
    },
    {
      "cell_type": "markdown",
      "metadata": {
        "id": "NI8jHTZmQSS3",
        "colab_type": "text"
      },
      "source": [
        "We will find a number of the duplicated entries and print the name of the duplicated apps."
      ]
    },
    {
      "cell_type": "code",
      "metadata": {
        "id": "An-NhP_bQcnO",
        "colab_type": "code",
        "colab": {
          "base_uri": "https://localhost:8080/",
          "height": 107
        },
        "outputId": "910f447e-ac54-4067-b1a8-3b3718dd4dfe"
      },
      "source": [
        "duplicated_apps = []\n",
        "unique_apps = []\n",
        "\n",
        "for app in android:\n",
        "  name = app[0]\n",
        "  if name in unique_apps:\n",
        "    duplicated_apps.append(name)\n",
        "  else:\n",
        "      unique_apps.append(name)\n",
        "\n",
        "print('Number of duplicated apps:', len(duplicated_apps))\n",
        "print('\\n')\n",
        "print('Examples of duplicated app:', duplicated_apps[:15])"
      ],
      "execution_count": 45,
      "outputs": [
        {
          "output_type": "stream",
          "text": [
            "Number of duplicated apps: 1181\n",
            "\n",
            "\n",
            "Examples of duplicated app: ['Quick PDF Scanner + OCR FREE', 'Box', 'Google My Business', 'ZOOM Cloud Meetings', 'join.me - Simple Meetings', 'Box', 'Zenefits', 'Google Ads', 'Google My Business', 'Slack', 'FreshBooks Classic', 'Insightly CRM', 'QuickBooks Accounting: Invoicing & Expenses', 'HipChat - Chat Built for Teams', 'Xero Accounting Software']\n"
          ],
          "name": "stdout"
        }
      ]
    },
    {
      "cell_type": "markdown",
      "metadata": {
        "id": "uRF-80EESgv0",
        "colab_type": "text"
      },
      "source": [
        "Form the example of the duplicated Instagram entries, we can see the number of reviews is different.  The higher the number of reviews, the more recent the data should be.  In stead of ramdomly removing the duplicated entries, we will keep the entry has the highest number of reviews."
      ]
    },
    {
      "cell_type": "code",
      "metadata": {
        "id": "Xt25iXPHuE7r",
        "colab_type": "code",
        "colab": {
          "base_uri": "https://localhost:8080/",
          "height": 35
        },
        "outputId": "6e126791-43fa-48da-f4f3-eb08c43f6336"
      },
      "source": [
        "print('Expected length:', len(android) - 1181)"
      ],
      "execution_count": 46,
      "outputs": [
        {
          "output_type": "stream",
          "text": [
            "Expected length: 9659\n"
          ],
          "name": "stdout"
        }
      ]
    },
    {
      "cell_type": "markdown",
      "metadata": {
        "id": "gd6KApVpvJTe",
        "colab_type": "text"
      },
      "source": [
        "There are 1181 duplicated apps and the expected number of apps in the data set after removing the duplicated apps is 9659.\n"
      ]
    },
    {
      "cell_type": "code",
      "metadata": {
        "id": "0xRJqMKkRcrn",
        "colab_type": "code",
        "colab": {
          "base_uri": "https://localhost:8080/",
          "height": 35
        },
        "outputId": "1e795449-61c0-4cbd-ac2f-7433f91ac671"
      },
      "source": [
        "reviews_max = {}\n",
        "\n",
        "for app in android:\n",
        "    name = app[0]\n",
        "    n_reviews = float(app[3])\n",
        "    if name in reviews_max and reviews_max[name] < n_reviews:\n",
        "        reviews_max[name] = n_reviews\n",
        "    elif name not in reviews_max:\n",
        "        reviews_max[name] = n_reviews\n",
        "\n",
        "print('Length of the reviews_max dictionary:', len(reviews_max))"
      ],
      "execution_count": 47,
      "outputs": [
        {
          "output_type": "stream",
          "text": [
            "Length of the reviews_max dictionary: 9659\n"
          ],
          "name": "stdout"
        }
      ]
    },
    {
      "cell_type": "code",
      "metadata": {
        "id": "DbwF3OwFzKje",
        "colab_type": "code",
        "colab": {}
      },
      "source": [
        "android_clean = [] # new cleaned Google Play data set\n",
        "already_added = [] # store apps name only\n",
        "\n",
        "for app in android:\n",
        "  name = app[0]\n",
        "  n_reviews = float(app[3])\n",
        "  if (reviews_max[name] == n_reviews) and (name not in already_added):\n",
        "        android_clean.append(app)\n",
        "        already_added.append(name)\n"
      ],
      "execution_count": 48,
      "outputs": []
    },
    {
      "cell_type": "code",
      "metadata": {
        "id": "sOdaGqJy2a38",
        "colab_type": "code",
        "colab": {
          "base_uri": "https://localhost:8080/",
          "height": 231
        },
        "outputId": "88a3c968-c06d-4716-a0b4-29340a34a1f5"
      },
      "source": [
        "# explore the cleaned Google Play data set\n",
        "explore_data(android_clean, 0, 3, True)"
      ],
      "execution_count": 49,
      "outputs": [
        {
          "output_type": "stream",
          "text": [
            "['Photo Editor & Candy Camera & Grid & ScrapBook', 'ART_AND_DESIGN', '4.1', '159', '19M', '10,000+', 'Free', '0', 'Everyone', 'Art & Design', 'January 7, 2018', '1.0.0', '4.0.3 and up']\n",
            "\n",
            "\n",
            "['U Launcher Lite – FREE Live Cool Themes, Hide Apps', 'ART_AND_DESIGN', '4.7', '87510', '8.7M', '5,000,000+', 'Free', '0', 'Everyone', 'Art & Design', 'August 1, 2018', '1.2.4', '4.0.3 and up']\n",
            "\n",
            "\n",
            "['Sketch - Draw & Paint', 'ART_AND_DESIGN', '4.5', '215644', '25M', '50,000,000+', 'Free', '0', 'Teen', 'Art & Design', 'June 8, 2018', 'Varies with device', '4.2 and up']\n",
            "\n",
            "\n",
            "Number of rows: 9659\n",
            "Number of columns: 13\n"
          ],
          "name": "stdout"
        }
      ]
    },
    {
      "cell_type": "markdown",
      "metadata": {
        "id": "CGscwstMR1Y2",
        "colab_type": "text"
      },
      "source": [
        "**Data Cleaning: Removing Non-English Apps**\n",
        "\n",
        "Both data sets have apps with names that suggest they are not directed toward an English-speaking audience.  We will remove those apps since our target is an English-speaking audience.\n"
      ]
    },
    {
      "cell_type": "code",
      "metadata": {
        "id": "mZajdTXw2tnU",
        "colab_type": "code",
        "colab": {}
      },
      "source": [
        "# define a function to return False if there are non-English characters\n",
        "def is_english(string):\n",
        "  for character in string:\n",
        "    if ord(character) > 127: # accordign to ASCII system, all characters in English are in a range of 0 to 127\n",
        "      return False\n",
        "\n",
        "    return True"
      ],
      "execution_count": 50,
      "outputs": []
    },
    {
      "cell_type": "code",
      "metadata": {
        "id": "GmM7Pa_JVEt_",
        "colab_type": "code",
        "colab": {
          "base_uri": "https://localhost:8080/",
          "height": 123
        },
        "outputId": "ca9acfd5-d8da-45f7-d823-4cfa311b0e85"
      },
      "source": [
        "print(is_english('Instagram'))\n",
        "print(is_english('爱奇艺PPS -《欢乐颂2》电视剧热播'))\n",
        "print(is_english('Docs To Go™ Free Office Suite'))\n",
        "print(is_english('Instachat 😜'))\n",
        "print(is_english('™'))\n",
        "print(is_english('😜'))"
      ],
      "execution_count": 51,
      "outputs": [
        {
          "output_type": "stream",
          "text": [
            "True\n",
            "False\n",
            "True\n",
            "True\n",
            "False\n",
            "False\n"
          ],
          "name": "stdout"
        }
      ]
    },
    {
      "cell_type": "markdown",
      "metadata": {
        "id": "B91LcZd0XtHY",
        "colab_type": "text"
      },
      "source": [
        "From the above result the function `is_english` cannot predict correctly the English apps with a special symbols or an emoji.\n",
        "\n",
        "We will only remove an app if its name has more than three characters with corresponding numbers falling outside the ASCII range. This new function will not be perfect still but better and should be effective."
      ]
    },
    {
      "cell_type": "code",
      "metadata": {
        "id": "1_CtxbFbWC0u",
        "colab_type": "code",
        "colab": {}
      },
      "source": [
        "# re-define the function\n",
        "def is_english(string):\n",
        "  non_ascii = 0\n",
        "  \n",
        "  for character in string:\n",
        "    if ord(character) > 127:\n",
        "      non_ascii += 1\n",
        "\n",
        "  if non_ascii >3:\n",
        "    return False\n",
        "  else:\n",
        "    return True\n"
      ],
      "execution_count": 52,
      "outputs": []
    },
    {
      "cell_type": "code",
      "metadata": {
        "id": "t_GJSQ6WaJf8",
        "colab_type": "code",
        "colab": {
          "base_uri": "https://localhost:8080/",
          "height": 87
        },
        "outputId": "a92063e3-295d-4c16-d1f9-00b076b8ea49"
      },
      "source": [
        "print(is_english('Instagram'))\n",
        "print(is_english('爱奇艺PPS -《欢乐颂2》电视剧热播'))\n",
        "print(is_english('Docs To Go™ Free Office Suite'))\n",
        "print(is_english('Instachat 😜'))"
      ],
      "execution_count": 53,
      "outputs": [
        {
          "output_type": "stream",
          "text": [
            "True\n",
            "False\n",
            "True\n",
            "True\n"
          ],
          "name": "stdout"
        }
      ]
    },
    {
      "cell_type": "markdown",
      "metadata": {
        "id": "ZAxBHZihbCg1",
        "colab_type": "text"
      },
      "source": [
        "We will use the new is_english function to remove non_English apps in both data sets."
      ]
    },
    {
      "cell_type": "code",
      "metadata": {
        "id": "2upg_VjgaO0O",
        "colab_type": "code",
        "colab": {}
      },
      "source": [
        "android_english = []\n",
        "iso_english = []\n",
        "\n",
        "for app in android_clean:\n",
        "  name = app[0]\n",
        "  if is_english(name):\n",
        "    android_english.append(app)\n",
        "\n",
        "for app in iso:\n",
        "  name = app[1]\n",
        "  if is_english(name):\n",
        "    iso_english.append(app)"
      ],
      "execution_count": 54,
      "outputs": []
    },
    {
      "cell_type": "code",
      "metadata": {
        "id": "3Jb5bzdZcf3s",
        "colab_type": "code",
        "colab": {
          "base_uri": "https://localhost:8080/",
          "height": 231
        },
        "outputId": "11ebb905-6311-45ac-a6c9-592c165460de"
      },
      "source": [
        "# explore the new Google Play data set\n",
        "explore_data(android_english, 0, 3, True)"
      ],
      "execution_count": 55,
      "outputs": [
        {
          "output_type": "stream",
          "text": [
            "['Photo Editor & Candy Camera & Grid & ScrapBook', 'ART_AND_DESIGN', '4.1', '159', '19M', '10,000+', 'Free', '0', 'Everyone', 'Art & Design', 'January 7, 2018', '1.0.0', '4.0.3 and up']\n",
            "\n",
            "\n",
            "['U Launcher Lite – FREE Live Cool Themes, Hide Apps', 'ART_AND_DESIGN', '4.7', '87510', '8.7M', '5,000,000+', 'Free', '0', 'Everyone', 'Art & Design', 'August 1, 2018', '1.2.4', '4.0.3 and up']\n",
            "\n",
            "\n",
            "['Sketch - Draw & Paint', 'ART_AND_DESIGN', '4.5', '215644', '25M', '50,000,000+', 'Free', '0', 'Teen', 'Art & Design', 'June 8, 2018', 'Varies with device', '4.2 and up']\n",
            "\n",
            "\n",
            "Number of rows: 9614\n",
            "Number of columns: 13\n"
          ],
          "name": "stdout"
        }
      ]
    },
    {
      "cell_type": "code",
      "metadata": {
        "id": "PSEWmv2ZdRaY",
        "colab_type": "code",
        "colab": {
          "base_uri": "https://localhost:8080/",
          "height": 211
        },
        "outputId": "b347dfa3-c3d0-4034-c047-d2be6c107323"
      },
      "source": [
        "# explore the new Apple Store\n",
        "explore_data(iso_english, 0, 3, True)"
      ],
      "execution_count": 56,
      "outputs": [
        {
          "output_type": "stream",
          "text": [
            "['284882215', 'Facebook', '389879808', 'USD', '0.0', '2974676', '212', '3.5', '3.5', '95.0', '4+', 'Social Networking', '37', '1', '29', '1']\n",
            "\n",
            "\n",
            "['389801252', 'Instagram', '113954816', 'USD', '0.0', '2161558', '1289', '4.5', '4.0', '10.23', '12+', 'Photo & Video', '37', '0', '29', '1']\n",
            "\n",
            "\n",
            "['529479190', 'Clash of Clans', '116476928', 'USD', '0.0', '2130805', '579', '4.5', '4.5', '9.24.12', '9+', 'Games', '38', '5', '18', '1']\n",
            "\n",
            "\n",
            "Number of rows: 6183\n",
            "Number of columns: 16\n"
          ],
          "name": "stdout"
        }
      ]
    },
    {
      "cell_type": "markdown",
      "metadata": {
        "id": "bf0ttFpieDP5",
        "colab_type": "text"
      },
      "source": [
        "Now we have 9614 apps in the Google Play data set and 6183 apps in the Apple Store data set."
      ]
    },
    {
      "cell_type": "markdown",
      "metadata": {
        "id": "mE8vZ9jHo9PX",
        "colab_type": "text"
      },
      "source": [
        "**Cleaning Data: Isolating Free Apps**\n",
        "\n",
        "We are interested in free apps only so we will isolate the free apps for our analysis."
      ]
    },
    {
      "cell_type": "code",
      "metadata": {
        "id": "Wqzegx9CdliZ",
        "colab_type": "code",
        "colab": {}
      },
      "source": [
        "android_free = []\n",
        "iso_free = []\n",
        "\n",
        "for app in android_english:\n",
        "  price = app[6]\n",
        "  if price == 'Free':\n",
        "    android_free.append(app)\n",
        "\n",
        "for app in iso_english:\n",
        "  price = app[4]\n",
        "  if price == '0.0':\n",
        "    iso_free.append(app)"
      ],
      "execution_count": 57,
      "outputs": []
    },
    {
      "cell_type": "code",
      "metadata": {
        "id": "EyuSg_gqq4-f",
        "colab_type": "code",
        "colab": {
          "base_uri": "https://localhost:8080/",
          "height": 231
        },
        "outputId": "3693bce8-8a2b-4f19-f5d3-292626f404d4"
      },
      "source": [
        "# explore the new Google Play data set\n",
        "explore_data(android_free, 0, 3, True)"
      ],
      "execution_count": 58,
      "outputs": [
        {
          "output_type": "stream",
          "text": [
            "['Photo Editor & Candy Camera & Grid & ScrapBook', 'ART_AND_DESIGN', '4.1', '159', '19M', '10,000+', 'Free', '0', 'Everyone', 'Art & Design', 'January 7, 2018', '1.0.0', '4.0.3 and up']\n",
            "\n",
            "\n",
            "['U Launcher Lite – FREE Live Cool Themes, Hide Apps', 'ART_AND_DESIGN', '4.7', '87510', '8.7M', '5,000,000+', 'Free', '0', 'Everyone', 'Art & Design', 'August 1, 2018', '1.2.4', '4.0.3 and up']\n",
            "\n",
            "\n",
            "['Sketch - Draw & Paint', 'ART_AND_DESIGN', '4.5', '215644', '25M', '50,000,000+', 'Free', '0', 'Teen', 'Art & Design', 'June 8, 2018', 'Varies with device', '4.2 and up']\n",
            "\n",
            "\n",
            "Number of rows: 8863\n",
            "Number of columns: 13\n"
          ],
          "name": "stdout"
        }
      ]
    },
    {
      "cell_type": "code",
      "metadata": {
        "id": "d03nun9JrKB-",
        "colab_type": "code",
        "colab": {
          "base_uri": "https://localhost:8080/",
          "height": 211
        },
        "outputId": "3630865f-9805-4da8-fc5f-9e8c6bc890e1"
      },
      "source": [
        "# explorre the new Apple Store data set\n",
        "explore_data(iso_free, 0, 3, True)"
      ],
      "execution_count": 59,
      "outputs": [
        {
          "output_type": "stream",
          "text": [
            "['284882215', 'Facebook', '389879808', 'USD', '0.0', '2974676', '212', '3.5', '3.5', '95.0', '4+', 'Social Networking', '37', '1', '29', '1']\n",
            "\n",
            "\n",
            "['389801252', 'Instagram', '113954816', 'USD', '0.0', '2161558', '1289', '4.5', '4.0', '10.23', '12+', 'Photo & Video', '37', '0', '29', '1']\n",
            "\n",
            "\n",
            "['529479190', 'Clash of Clans', '116476928', 'USD', '0.0', '2130805', '579', '4.5', '4.5', '9.24.12', '9+', 'Games', '38', '5', '18', '1']\n",
            "\n",
            "\n",
            "Number of rows: 3222\n",
            "Number of columns: 16\n"
          ],
          "name": "stdout"
        }
      ]
    },
    {
      "cell_type": "markdown",
      "metadata": {
        "id": "IlUXlTmAr16M",
        "colab_type": "text"
      },
      "source": [
        "Finally, we are left with 8863 Google Play apps and 3222 Apple Store apps."
      ]
    },
    {
      "cell_type": "markdown",
      "metadata": {
        "id": "YjppUOeytYib",
        "colab_type": "text"
      },
      "source": [
        "**Analysis: Frequency Tables by Using Category and Genre**\n",
        "\n",
        "Our revenue is highly influenced by the number of people using our apps.  In order to determine the kinds of apps that are likely to attract more users, we will find the most common genres in Google Play and Apple Store by building frequency tables for a few columns in our data sets.\n",
        "\n",
        "We will frequency tables from the `Category` and `Genres` columns for the Google Play data set and the `prime_genre` column for the Apple Store data set."
      ]
    },
    {
      "cell_type": "code",
      "metadata": {
        "id": "dT12g_JRuZSn",
        "colab_type": "code",
        "colab": {}
      },
      "source": [
        "# define a function to generate frequency tables that show percentages\n",
        "def freq_table(dataset, index):\n",
        "  table = {}\n",
        "  total = 0\n",
        "\n",
        "  for row in dataset:\n",
        "    total += 1\n",
        "    value = row[index]\n",
        "    if value in table:\n",
        "      table[value] += 1\n",
        "    else:\n",
        "      table[value] = 1\n",
        "\n",
        "  table_percentages = {}\n",
        "  for key in table:\n",
        "    percentage = (table[key]/total)*100\n",
        "    table_percentages[key] = percentage\n",
        "\n",
        "  return table_percentages"
      ],
      "execution_count": 60,
      "outputs": []
    },
    {
      "cell_type": "markdown",
      "metadata": {
        "id": "rJaBve8F1NmJ",
        "colab_type": "text"
      },
      "source": [
        "The frequency table we generate by using the `freq_table` function defined above is a dictionary.  We need to sort the frequency table in a descending order to find out which kinds of apps have higher frequency.  In order to do so, We will define a function to transform the frequency table into a list of tuples, then sort the list in a descending order."
      ]
    },
    {
      "cell_type": "code",
      "metadata": {
        "id": "en0BRbH_1MXz",
        "colab_type": "code",
        "colab": {}
      },
      "source": [
        "# define a function to transform a dictionary into a list of tuples and sort the list in a descending order\n",
        "def display_table(dataset, index):\n",
        "    table = freq_table(dataset, index)\n",
        "    table_display = []\n",
        "    for key in table:\n",
        "        key_val_as_tuple = (table[key], key)\n",
        "        table_display.append(key_val_as_tuple)\n",
        "        \n",
        "    table_sorted = sorted(table_display, reverse = True)\n",
        "    for entry in table_sorted:\n",
        "        print(entry[1], ':', entry[0])"
      ],
      "execution_count": 61,
      "outputs": []
    },
    {
      "cell_type": "markdown",
      "metadata": {
        "id": "OGUMq2az4H8I",
        "colab_type": "text"
      },
      "source": [
        "We will creat a frequency table for the `prime_genre` column in the Apple Store data set."
      ]
    },
    {
      "cell_type": "code",
      "metadata": {
        "id": "lPwNQxCD2-s6",
        "colab_type": "code",
        "colab": {
          "base_uri": "https://localhost:8080/",
          "height": 439
        },
        "outputId": "9817fccc-3318-479e-e423-0d6501c391d6"
      },
      "source": [
        "print(display_table(iso_free, 11))"
      ],
      "execution_count": 62,
      "outputs": [
        {
          "output_type": "stream",
          "text": [
            "Games : 58.16263190564867\n",
            "Entertainment : 7.883302296710118\n",
            "Photo & Video : 4.9658597144630665\n",
            "Education : 3.662321539416512\n",
            "Social Networking : 3.2898820608317814\n",
            "Shopping : 2.60707635009311\n",
            "Utilities : 2.5139664804469275\n",
            "Sports : 2.1415270018621975\n",
            "Music : 2.0484171322160147\n",
            "Health & Fitness : 2.0173805090006205\n",
            "Productivity : 1.7380509000620732\n",
            "Lifestyle : 1.5828677839851024\n",
            "News : 1.3345747982619491\n",
            "Travel : 1.2414649286157666\n",
            "Finance : 1.1173184357541899\n",
            "Weather : 0.8690254500310366\n",
            "Food & Drink : 0.8069522036002483\n",
            "Reference : 0.5586592178770949\n",
            "Business : 0.5276225946617008\n",
            "Book : 0.4345127250155183\n",
            "Navigation : 0.186219739292365\n",
            "Medical : 0.186219739292365\n",
            "Catalogs : 0.12414649286157665\n",
            "None\n"
          ],
          "name": "stdout"
        }
      ]
    },
    {
      "cell_type": "markdown",
      "metadata": {
        "id": "WpA_vDzK5eWV",
        "colab_type": "text"
      },
      "source": [
        "About 58% of apps in the Apple Store data set is categorized as games followed by entertainment (7.9%), photo & video (5.0%), and education (3.7%).  The most of apps are for entertainment.  The apps for practical use are rare.  However, the fact that entertainment apps are the most numerous doesn't also imply that they also have the greatest number of users."
      ]
    },
    {
      "cell_type": "markdown",
      "metadata": {
        "id": "nfxKdWWw7kx3",
        "colab_type": "text"
      },
      "source": [
        "We will creat frequency tables for the `Category` and `Genres` columns in the Google Play data set."
      ]
    },
    {
      "cell_type": "code",
      "metadata": {
        "id": "JcSshxvs4peh",
        "colab_type": "code",
        "colab": {
          "base_uri": "https://localhost:8080/",
          "height": 615
        },
        "outputId": "376e306a-3d9c-4e30-b60f-02854bc65426"
      },
      "source": [
        "print(display_table(android_free, 1)) # Category"
      ],
      "execution_count": 63,
      "outputs": [
        {
          "output_type": "stream",
          "text": [
            "FAMILY : 18.898792733837304\n",
            "GAME : 9.725826469592688\n",
            "TOOLS : 8.462146000225657\n",
            "BUSINESS : 4.592124562789123\n",
            "LIFESTYLE : 3.9038700214374367\n",
            "PRODUCTIVITY : 3.8925871601038025\n",
            "FINANCE : 3.7007785174320205\n",
            "MEDICAL : 3.5315355974275078\n",
            "SPORTS : 3.396141261423897\n",
            "PERSONALIZATION : 3.317161232088458\n",
            "COMMUNICATION : 3.2381812027530184\n",
            "HEALTH_AND_FITNESS : 3.0802211440821394\n",
            "PHOTOGRAPHY : 2.944826808078529\n",
            "NEWS_AND_MAGAZINES : 2.798149610741284\n",
            "SOCIAL : 2.6627552747376737\n",
            "TRAVEL_AND_LOCAL : 2.335552296062281\n",
            "SHOPPING : 2.245289405393208\n",
            "BOOKS_AND_REFERENCE : 2.1437436533904997\n",
            "DATING : 1.8616721200496444\n",
            "VIDEO_PLAYERS : 1.7939749520478394\n",
            "MAPS_AND_NAVIGATION : 1.399074805370642\n",
            "FOOD_AND_DRINK : 1.241114746699763\n",
            "EDUCATION : 1.1621347173643235\n",
            "ENTERTAINMENT : 0.9590432133589079\n",
            "LIBRARIES_AND_DEMO : 0.9364774906916393\n",
            "AUTO_AND_VEHICLES : 0.9251946293580051\n",
            "HOUSE_AND_HOME : 0.8236488773552973\n",
            "WEATHER : 0.8010831546880289\n",
            "EVENTS : 0.7108202640189552\n",
            "PARENTING : 0.6544059573507841\n",
            "ART_AND_DESIGN : 0.6431230960171499\n",
            "COMICS : 0.6205573733498815\n",
            "BEAUTY : 0.5979916506826132\n",
            "None\n"
          ],
          "name": "stdout"
        }
      ]
    },
    {
      "cell_type": "code",
      "metadata": {
        "id": "5w4VmmVV8ISL",
        "colab_type": "code",
        "colab": {
          "base_uri": "https://localhost:8080/",
          "height": 1000
        },
        "outputId": "6b584837-cff8-4f83-a169-923142927e79"
      },
      "source": [
        "print(display_table(android_free, 9)) # Genres"
      ],
      "execution_count": 64,
      "outputs": [
        {
          "output_type": "stream",
          "text": [
            "Tools : 8.450863138892023\n",
            "Entertainment : 6.070179397495204\n",
            "Education : 5.348076272142616\n",
            "Business : 4.592124562789123\n",
            "Productivity : 3.8925871601038025\n",
            "Lifestyle : 3.8925871601038025\n",
            "Finance : 3.7007785174320205\n",
            "Medical : 3.5315355974275078\n",
            "Sports : 3.463838429425702\n",
            "Personalization : 3.317161232088458\n",
            "Communication : 3.2381812027530184\n",
            "Action : 3.102786866749408\n",
            "Health & Fitness : 3.0802211440821394\n",
            "Photography : 2.944826808078529\n",
            "News & Magazines : 2.798149610741284\n",
            "Social : 2.6627552747376737\n",
            "Travel & Local : 2.324269434728647\n",
            "Shopping : 2.245289405393208\n",
            "Books & Reference : 2.1437436533904997\n",
            "Simulation : 2.042197901387792\n",
            "Dating : 1.8616721200496444\n",
            "Arcade : 1.8503892587160102\n",
            "Video Players & Editors : 1.771409229380571\n",
            "Casual : 1.7601263680469368\n",
            "Maps & Navigation : 1.399074805370642\n",
            "Food & Drink : 1.241114746699763\n",
            "Puzzle : 1.128286133363421\n",
            "Racing : 0.9928917973598104\n",
            "Role Playing : 0.9364774906916393\n",
            "Libraries & Demo : 0.9364774906916393\n",
            "Auto & Vehicles : 0.9251946293580051\n",
            "Strategy : 0.9026289066907368\n",
            "House & Home : 0.8236488773552973\n",
            "Weather : 0.8010831546880289\n",
            "Events : 0.7108202640189552\n",
            "Adventure : 0.6769716800180525\n",
            "Comics : 0.6092745120162473\n",
            "Beauty : 0.5979916506826132\n",
            "Art & Design : 0.5979916506826132\n",
            "Parenting : 0.4964458986799052\n",
            "Card : 0.4513144533453684\n",
            "Casino : 0.42874873067809993\n",
            "Trivia : 0.4174658693444658\n",
            "Educational;Education : 0.3949001466771973\n",
            "Board : 0.38361728534356315\n",
            "Educational : 0.37233442400992894\n",
            "Education;Education : 0.33848584000902626\n",
            "Word : 0.25950581067358686\n",
            "Casual;Pretend Play : 0.2369400880063184\n",
            "Music : 0.20309150400541578\n",
            "Racing;Action & Adventure : 0.16924292000451313\n",
            "Puzzle;Brain Games : 0.16924292000451313\n",
            "Entertainment;Music & Video : 0.16924292000451313\n",
            "Casual;Brain Games : 0.1353943360036105\n",
            "Casual;Action & Adventure : 0.1353943360036105\n",
            "Arcade;Action & Adventure : 0.1241114746699763\n",
            "Action;Action & Adventure : 0.10154575200270789\n",
            "Educational;Pretend Play : 0.09026289066907367\n",
            "Simulation;Action & Adventure : 0.07898002933543948\n",
            "Parenting;Education : 0.07898002933543948\n",
            "Entertainment;Brain Games : 0.07898002933543948\n",
            "Board;Brain Games : 0.07898002933543948\n",
            "Parenting;Music & Video : 0.06769716800180525\n",
            "Educational;Brain Games : 0.06769716800180525\n",
            "Casual;Creativity : 0.06769716800180525\n",
            "Art & Design;Creativity : 0.06769716800180525\n",
            "Education;Pretend Play : 0.05641430666817105\n",
            "Role Playing;Pretend Play : 0.045131445334536835\n",
            "Education;Creativity : 0.045131445334536835\n",
            "Role Playing;Action & Adventure : 0.033848584000902626\n",
            "Puzzle;Action & Adventure : 0.033848584000902626\n",
            "Entertainment;Creativity : 0.033848584000902626\n",
            "Entertainment;Action & Adventure : 0.033848584000902626\n",
            "Educational;Creativity : 0.033848584000902626\n",
            "Educational;Action & Adventure : 0.033848584000902626\n",
            "Education;Music & Video : 0.033848584000902626\n",
            "Education;Brain Games : 0.033848584000902626\n",
            "Education;Action & Adventure : 0.033848584000902626\n",
            "Adventure;Action & Adventure : 0.033848584000902626\n",
            "Video Players & Editors;Music & Video : 0.022565722667268417\n",
            "Sports;Action & Adventure : 0.022565722667268417\n",
            "Simulation;Pretend Play : 0.022565722667268417\n",
            "Puzzle;Creativity : 0.022565722667268417\n",
            "Music;Music & Video : 0.022565722667268417\n",
            "Entertainment;Pretend Play : 0.022565722667268417\n",
            "Casual;Education : 0.022565722667268417\n",
            "Board;Action & Adventure : 0.022565722667268417\n",
            "Video Players & Editors;Creativity : 0.011282861333634209\n",
            "Trivia;Education : 0.011282861333634209\n",
            "Travel & Local;Action & Adventure : 0.011282861333634209\n",
            "Tools;Education : 0.011282861333634209\n",
            "Strategy;Education : 0.011282861333634209\n",
            "Strategy;Creativity : 0.011282861333634209\n",
            "Strategy;Action & Adventure : 0.011282861333634209\n",
            "Simulation;Education : 0.011282861333634209\n",
            "Role Playing;Brain Games : 0.011282861333634209\n",
            "Racing;Pretend Play : 0.011282861333634209\n",
            "Puzzle;Education : 0.011282861333634209\n",
            "Parenting;Brain Games : 0.011282861333634209\n",
            "Music & Audio;Music & Video : 0.011282861333634209\n",
            "Lifestyle;Pretend Play : 0.011282861333634209\n",
            "Lifestyle;Education : 0.011282861333634209\n",
            "Health & Fitness;Education : 0.011282861333634209\n",
            "Health & Fitness;Action & Adventure : 0.011282861333634209\n",
            "Entertainment;Education : 0.011282861333634209\n",
            "Communication;Creativity : 0.011282861333634209\n",
            "Comics;Creativity : 0.011282861333634209\n",
            "Casual;Music & Video : 0.011282861333634209\n",
            "Card;Action & Adventure : 0.011282861333634209\n",
            "Books & Reference;Education : 0.011282861333634209\n",
            "Art & Design;Pretend Play : 0.011282861333634209\n",
            "Art & Design;Action & Adventure : 0.011282861333634209\n",
            "Arcade;Pretend Play : 0.011282861333634209\n",
            "Adventure;Education : 0.011282861333634209\n",
            "None\n"
          ],
          "name": "stdout"
        }
      ]
    },
    {
      "cell_type": "markdown",
      "metadata": {
        "id": "Cmp4TzaNAP8D",
        "colab_type": "text"
      },
      "source": [
        "When we look at a frequency table for the `Category` column in the Google Play data set, about 19% of apps is catagorized as family followed by game (9.7%), tools (8.5%), and business (4.6%).\n",
        "\n",
        "When we look at a frequency table for the `Genre` column in the Google Store data set, about 8.5% of apps is catagorized as tools followed by entertainment (6.1%), education (8.5%), and business (4.6%).\n",
        "\n",
        "The difference between `Category` and `Genre` is not clear.  However, we can conclude that the Google Play has a more balanced landscape of both practical and entertainment apps compared to the Apple Store.\n",
        "\n",
        "Still, we cannot identify the type of apps that is mostly influenced by the number of users from these frequecy tables."
      ]
    },
    {
      "cell_type": "markdown",
      "metadata": {
        "id": "0wlZ3B_sE5Tz",
        "colab_type": "text"
      },
      "source": [
        "**Analysis: Most Popular Genre by Using total Number of User Ratings in Apple Store Data Set**\n",
        "\n",
        "We will calculate the average number of user ratings per app genre by using the `rating_count_tot` column in the Apple Store data set.\n",
        "\n"
      ]
    },
    {
      "cell_type": "code",
      "metadata": {
        "id": "KpUsNJa48Z7K",
        "colab_type": "code",
        "colab": {
          "base_uri": "https://localhost:8080/",
          "height": 422
        },
        "outputId": "5e3fef76-7648-4f78-b945-2339d34ad4f4"
      },
      "source": [
        "genre_iso = freq_table(iso_free, 11)\n",
        "\n",
        "for genre in genre_iso:\n",
        "  total = 0\n",
        "  len_genre = 0\n",
        "  for app in iso_free:\n",
        "    genre_app = app[11]\n",
        "    if genre_app == genre:\n",
        "      n_ratings = float(app[5])\n",
        "      total += n_ratings\n",
        "      len_genre += 1\n",
        "  ave_n_ratings = total / len_genre\n",
        "  print(genre, ':', ave_n_ratings)"
      ],
      "execution_count": 65,
      "outputs": [
        {
          "output_type": "stream",
          "text": [
            "Social Networking : 71548.34905660378\n",
            "Photo & Video : 28441.54375\n",
            "Games : 22788.6696905016\n",
            "Music : 57326.530303030304\n",
            "Reference : 74942.11111111111\n",
            "Health & Fitness : 23298.015384615384\n",
            "Weather : 52279.892857142855\n",
            "Utilities : 18684.456790123455\n",
            "Travel : 28243.8\n",
            "Shopping : 26919.690476190477\n",
            "News : 21248.023255813954\n",
            "Navigation : 86090.33333333333\n",
            "Lifestyle : 16485.764705882353\n",
            "Entertainment : 14029.830708661417\n",
            "Food & Drink : 33333.92307692308\n",
            "Sports : 23008.898550724636\n",
            "Book : 39758.5\n",
            "Finance : 31467.944444444445\n",
            "Education : 7003.983050847458\n",
            "Productivity : 21028.410714285714\n",
            "Business : 7491.117647058823\n",
            "Catalogs : 4004.0\n",
            "Medical : 612.0\n"
          ],
          "name": "stdout"
        }
      ]
    },
    {
      "cell_type": "markdown",
      "metadata": {
        "id": "Gu4FAazUNAw-",
        "colab_type": "text"
      },
      "source": [
        "In the Apple Store, the \"Navigation\" apps have the highest average number of ratings followed by \"Reference\" and \"Social Networking\"."
      ]
    },
    {
      "cell_type": "code",
      "metadata": {
        "id": "eBPd57NTK3nP",
        "colab_type": "code",
        "colab": {
          "base_uri": "https://localhost:8080/",
          "height": 123
        },
        "outputId": "ecdbe61f-7078-4fe2-e25c-eb371e66cb4e"
      },
      "source": [
        "# print name and number of ratings for the navigation apps\n",
        "for app in iso_free:\n",
        "    if app[11] == 'Navigation':\n",
        "        print(app[1], ':', app[5])"
      ],
      "execution_count": 66,
      "outputs": [
        {
          "output_type": "stream",
          "text": [
            "Waze - GPS Navigation, Maps & Real-time Traffic : 345046\n",
            "Google Maps - Navigation & Transit : 154911\n",
            "Geocaching® : 12811\n",
            "CoPilot GPS – Car Navigation & Offline Maps : 3582\n",
            "ImmobilienScout24: Real Estate Search in Germany : 187\n",
            "Railway Route Search : 5\n"
          ],
          "name": "stdout"
        }
      ]
    },
    {
      "cell_type": "code",
      "metadata": {
        "id": "iaB4u4djRP5c",
        "colab_type": "code",
        "colab": {
          "base_uri": "https://localhost:8080/",
          "height": 334
        },
        "outputId": "f69818d1-a843-4588-c4e6-24d93d511b49"
      },
      "source": [
        "# print name and number of ratings for the reference apps\n",
        "for app in iso_free:\n",
        "    if app[11] == 'Reference':\n",
        "        print(app[1], ':', app[5])"
      ],
      "execution_count": 67,
      "outputs": [
        {
          "output_type": "stream",
          "text": [
            "Bible : 985920\n",
            "Dictionary.com Dictionary & Thesaurus : 200047\n",
            "Dictionary.com Dictionary & Thesaurus for iPad : 54175\n",
            "Google Translate : 26786\n",
            "Muslim Pro: Ramadan 2017 Prayer Times, Azan, Quran : 18418\n",
            "New Furniture Mods - Pocket Wiki & Game Tools for Minecraft PC Edition : 17588\n",
            "Merriam-Webster Dictionary : 16849\n",
            "Night Sky : 12122\n",
            "City Maps for Minecraft PE - The Best Maps for Minecraft Pocket Edition (MCPE) : 8535\n",
            "LUCKY BLOCK MOD ™ for Minecraft PC Edition - The Best Pocket Wiki & Mods Installer Tools : 4693\n",
            "GUNS MODS for Minecraft PC Edition - Mods Tools : 1497\n",
            "Guides for Pokémon GO - Pokemon GO News and Cheats : 826\n",
            "WWDC : 762\n",
            "Horror Maps for Minecraft PE - Download The Scariest Maps for Minecraft Pocket Edition (MCPE) Free : 718\n",
            "VPN Express : 14\n",
            "Real Bike Traffic Rider Virtual Reality Glasses : 8\n",
            "教えて!goo : 0\n",
            "Jishokun-Japanese English Dictionary & Translator : 0\n"
          ],
          "name": "stdout"
        }
      ]
    },
    {
      "cell_type": "code",
      "metadata": {
        "id": "rM4L-Yh-PY6O",
        "colab_type": "code",
        "colab": {
          "base_uri": "https://localhost:8080/",
          "height": 1000
        },
        "outputId": "cf029ad1-80b6-471a-9077-4491bb4b34ff"
      },
      "source": [
        "# print name and number of ratings for the navigation apps\n",
        "for app in iso_free:\n",
        "    if app[11] == 'Social Networking':\n",
        "        print(app[1], ':', app[5])"
      ],
      "execution_count": 68,
      "outputs": [
        {
          "output_type": "stream",
          "text": [
            "Facebook : 2974676\n",
            "Pinterest : 1061624\n",
            "Skype for iPhone : 373519\n",
            "Messenger : 351466\n",
            "Tumblr : 334293\n",
            "WhatsApp Messenger : 287589\n",
            "Kik : 260965\n",
            "ooVoo – Free Video Call, Text and Voice : 177501\n",
            "TextNow - Unlimited Text + Calls : 164963\n",
            "Viber Messenger – Text & Call : 164249\n",
            "Followers - Social Analytics For Instagram : 112778\n",
            "MeetMe - Chat and Meet New People : 97072\n",
            "We Heart It - Fashion, wallpapers, quotes, tattoos : 90414\n",
            "InsTrack for Instagram - Analytics Plus More : 85535\n",
            "Tango - Free Video Call, Voice and Chat : 75412\n",
            "LinkedIn : 71856\n",
            "Match™ - #1 Dating App. : 60659\n",
            "Skype for iPad : 60163\n",
            "POF - Best Dating App for Conversations : 52642\n",
            "Timehop : 49510\n",
            "Find My Family, Friends & iPhone - Life360 Locator : 43877\n",
            "Whisper - Share, Express, Meet : 39819\n",
            "Hangouts : 36404\n",
            "LINE PLAY - Your Avatar World : 34677\n",
            "WeChat : 34584\n",
            "Badoo - Meet New People, Chat, Socialize. : 34428\n",
            "Followers + for Instagram - Follower Analytics : 28633\n",
            "GroupMe : 28260\n",
            "Marco Polo Video Walkie Talkie : 27662\n",
            "Miitomo : 23965\n",
            "SimSimi : 23530\n",
            "Grindr - Gay and same sex guys chat, meet and date : 23201\n",
            "Wishbone - Compare Anything : 20649\n",
            "imo video calls and chat : 18841\n",
            "After School - Funny Anonymous School News : 18482\n",
            "Quick Reposter - Repost, Regram and Reshare Photos : 17694\n",
            "Weibo HD : 16772\n",
            "Repost for Instagram : 15185\n",
            "Live.me – Live Video Chat & Make Friends Nearby : 14724\n",
            "Nextdoor : 14402\n",
            "Followers Analytics for Instagram - InstaReport : 13914\n",
            "YouNow: Live Stream Video Chat : 12079\n",
            "FollowMeter for Instagram - Followers Tracking : 11976\n",
            "LINE : 11437\n",
            "eHarmony™ Dating App - Meet Singles : 11124\n",
            "Discord - Chat for Gamers : 9152\n",
            "QQ : 9109\n",
            "Telegram Messenger : 7573\n",
            "Weibo : 7265\n",
            "Periscope - Live Video Streaming Around the World : 6062\n",
            "Chat for Whatsapp - iPad Version : 5060\n",
            "QQ HD : 5058\n",
            "Followers Analysis Tool For Instagram App Free : 4253\n",
            "live.ly - live video streaming : 4145\n",
            "Houseparty - Group Video Chat : 3991\n",
            "SOMA Messenger : 3232\n",
            "Monkey : 3060\n",
            "Down To Lunch : 2535\n",
            "Flinch - Video Chat Staring Contest : 2134\n",
            "Highrise - Your Avatar Community : 2011\n",
            "LOVOO - Dating Chat : 1985\n",
            "PlayStation®Messages : 1918\n",
            "BOO! - Video chat camera with filters & stickers : 1805\n",
            "Qzone : 1649\n",
            "Chatous - Chat with new people : 1609\n",
            "Kiwi - Q&A : 1538\n",
            "GhostCodes - a discovery app for Snapchat : 1313\n",
            "Jodel : 1193\n",
            "FireChat : 1037\n",
            "Google Duo - simple video calling : 1033\n",
            "Fiesta by Tango - Chat & Meet New People : 885\n",
            "Google Allo — smart messaging : 862\n",
            "Peach — share vividly : 727\n",
            "Hey! VINA - Where Women Meet New Friends : 719\n",
            "Battlefield™ Companion : 689\n",
            "All Devices for WhatsApp - Messenger for iPad : 682\n",
            "Chat for Pokemon Go - GoChat : 500\n",
            "IAmNaughty – Dating App to Meet New People Online : 463\n",
            "Qzone HD : 458\n",
            "Zenly - Locate your friends in realtime : 427\n",
            "League of Legends Friends : 420\n",
            "豆瓣 : 407\n",
            "Candid - Speak Your Mind Freely : 398\n",
            "知乎 : 397\n",
            "Selfeo : 366\n",
            "Fake-A-Location Free ™ : 354\n",
            "Popcorn Buzz - Free Group Calls : 281\n",
            "Fam — Group video calling for iMessage : 279\n",
            "QQ International : 274\n",
            "Ameba : 269\n",
            "SoundCloud Pulse: for creators : 240\n",
            "Tantan : 235\n",
            "Cougar Dating & Life Style App for Mature Women : 213\n",
            "Rawr Messenger - Dab your chat : 180\n",
            "WhenToPost: Best Time to Post Photos for Instagram : 158\n",
            "Inke—Broadcast an amazing life : 147\n",
            "Mustknow - anonymous video Q&A : 53\n",
            "CTFxCmoji : 39\n",
            "Lobi : 36\n",
            "Chain: Collaborate On MyVideo Story/Group Video : 35\n",
            "botman - Real time video chat : 7\n",
            "BestieBox : 0\n",
            "MATCH ON LINE chat : 0\n",
            "niconico ch : 0\n",
            "LINE BLOG : 0\n",
            "bit-tube - Live Stream Video Chat : 0\n"
          ],
          "name": "stdout"
        }
      ]
    },
    {
      "cell_type": "markdown",
      "metadata": {
        "id": "z_D5Wqa3ReyM",
        "colab_type": "text"
      },
      "source": [
        "The reference apps are mostly bible and dictionary apps so it may not be our interest to create another bible or dictionary apps.  The majority of the number of reviews in the navigation and social networking apps are the apps such as Waze, Google Map, Facebook, and Pinterest created by big companies."
      ]
    },
    {
      "cell_type": "markdown",
      "metadata": {
        "id": "vWiEObWrTz0A",
        "colab_type": "text"
      },
      "source": [
        "**Analysis: Most Popular Genre by Using Average Number of Installs in Google Play Data Set**\n"
      ]
    },
    {
      "cell_type": "markdown",
      "metadata": {
        "id": "1X-CA9Pna3iu",
        "colab_type": "text"
      },
      "source": [
        "In the Google Play data set, we will look at the installs column.  However, the numbers of installs are not preciese like 100+, 1,000+, 5,000+, 10,000+, etc.  For our analysis, we don't need precise numbers so we will simplied by removing the \"+\" sign.  For example, if the number of installs for the paricular app is 10,000+, we will assume it is 10,000 installs.  In order to do a calculation, we will remove \",\" and change it to the float."
      ]
    },
    {
      "cell_type": "code",
      "metadata": {
        "id": "t3PwA6DiQqP3",
        "colab_type": "code",
        "colab": {
          "base_uri": "https://localhost:8080/",
          "height": 598
        },
        "outputId": "021554fc-cf2e-4bf7-922d-6643038e785b"
      },
      "source": [
        "cat_android = freq_table(android_free, 1)\n",
        "\n",
        "for category in cat_android:\n",
        "  total = 0\n",
        "  len_category = 0\n",
        "  for app in android_free:\n",
        "    category_app = app[1]\n",
        "    if category_app == category:\n",
        "      n_installs = app[5]\n",
        "      n_installs = n_installs.replace('+', '')\n",
        "      n_installs = n_installs.replace(',', '')\n",
        "      total += float(n_installs)\n",
        "      len_category += 1\n",
        "  ave_n_installs = total / len_category\n",
        "  print(category, ':', ave_n_installs)"
      ],
      "execution_count": 70,
      "outputs": [
        {
          "output_type": "stream",
          "text": [
            "ART_AND_DESIGN : 1986335.0877192982\n",
            "AUTO_AND_VEHICLES : 647317.8170731707\n",
            "BEAUTY : 513151.88679245283\n",
            "BOOKS_AND_REFERENCE : 8767811.894736841\n",
            "BUSINESS : 1712290.1474201474\n",
            "COMICS : 817657.2727272727\n",
            "COMMUNICATION : 38456119.167247385\n",
            "DATING : 854028.8303030303\n",
            "EDUCATION : 1833495.145631068\n",
            "ENTERTAINMENT : 11640705.88235294\n",
            "EVENTS : 253542.22222222222\n",
            "FINANCE : 1387692.475609756\n",
            "FOOD_AND_DRINK : 1924897.7363636363\n",
            "HEALTH_AND_FITNESS : 4188821.9853479853\n",
            "HOUSE_AND_HOME : 1331540.5616438356\n",
            "LIBRARIES_AND_DEMO : 638503.734939759\n",
            "LIFESTYLE : 1437816.2687861272\n",
            "GAME : 15588015.603248259\n",
            "FAMILY : 3697848.1731343283\n",
            "MEDICAL : 120550.61980830671\n",
            "SOCIAL : 23253652.127118643\n",
            "SHOPPING : 7036877.311557789\n",
            "PHOTOGRAPHY : 17840110.40229885\n",
            "SPORTS : 3638640.1428571427\n",
            "TRAVEL_AND_LOCAL : 13984077.710144928\n",
            "TOOLS : 10801391.298666667\n",
            "PERSONALIZATION : 5201482.6122448975\n",
            "PRODUCTIVITY : 16787331.344927534\n",
            "PARENTING : 542603.6206896552\n",
            "WEATHER : 5074486.197183099\n",
            "VIDEO_PLAYERS : 24727872.452830188\n",
            "NEWS_AND_MAGAZINES : 9549178.467741935\n",
            "MAPS_AND_NAVIGATION : 4056941.7741935486\n"
          ],
          "name": "stdout"
        }
      ]
    },
    {
      "cell_type": "markdown",
      "metadata": {
        "id": "9cGXGftyi4M5",
        "colab_type": "text"
      },
      "source": [
        "In the Google Play apps, the category \"communication\" has a highest average number of installs."
      ]
    },
    {
      "cell_type": "code",
      "metadata": {
        "id": "d-5e2ViehHYa",
        "colab_type": "code",
        "colab": {
          "base_uri": "https://localhost:8080/",
          "height": 1000
        },
        "outputId": "7f34531c-ba4b-4a1f-be51-b7605912016b"
      },
      "source": [
        "# print name and number of installs for the communication apps\n",
        "for app in android_free:\n",
        "    if app[1] == 'COMMUNICATION':\n",
        "        print(app[0], ':', app[5])"
      ],
      "execution_count": 73,
      "outputs": [
        {
          "output_type": "stream",
          "text": [
            "WhatsApp Messenger : 1,000,000,000+\n",
            "Messenger for SMS : 10,000,000+\n",
            "My Tele2 : 5,000,000+\n",
            "imo beta free calls and text : 100,000,000+\n",
            "Contacts : 50,000,000+\n",
            "Call Free – Free Call : 5,000,000+\n",
            "Web Browser & Explorer : 5,000,000+\n",
            "Browser 4G : 10,000,000+\n",
            "MegaFon Dashboard : 10,000,000+\n",
            "ZenUI Dialer & Contacts : 10,000,000+\n",
            "Cricket Visual Voicemail : 10,000,000+\n",
            "TracFone My Account : 1,000,000+\n",
            "Xperia Link™ : 10,000,000+\n",
            "TouchPal Keyboard - Fun Emoji & Android Keyboard : 10,000,000+\n",
            "Skype Lite - Free Video Call & Chat : 5,000,000+\n",
            "My magenta : 1,000,000+\n",
            "Android Messages : 100,000,000+\n",
            "Google Duo - High Quality Video Calls : 500,000,000+\n",
            "Seznam.cz : 1,000,000+\n",
            "Antillean Gold Telegram (original version) : 100,000+\n",
            "AT&T Visual Voicemail : 10,000,000+\n",
            "GMX Mail : 10,000,000+\n",
            "Omlet Chat : 10,000,000+\n",
            "My Vodacom SA : 5,000,000+\n",
            "Microsoft Edge : 5,000,000+\n",
            "Messenger – Text and Video Chat for Free : 1,000,000,000+\n",
            "imo free video calls and chat : 500,000,000+\n",
            "Calls & Text by Mo+ : 5,000,000+\n",
            "free video calls and chat : 50,000,000+\n",
            "Skype - free IM & video calls : 1,000,000,000+\n",
            "Who : 100,000,000+\n",
            "GO SMS Pro - Messenger, Free Themes, Emoji : 100,000,000+\n",
            "Messaging+ SMS, MMS Free : 1,000,000+\n",
            "chomp SMS : 10,000,000+\n",
            "Glide - Video Chat Messenger : 10,000,000+\n",
            "Text SMS : 10,000,000+\n",
            "Talkray - Free Calls & Texts : 10,000,000+\n",
            "LINE: Free Calls & Messages : 500,000,000+\n",
            "GroupMe : 10,000,000+\n",
            "mysms SMS Text Messaging Sync : 1,000,000+\n",
            "2ndLine - Second Phone Number : 1,000,000+\n",
            "Google Chrome: Fast & Secure : 1,000,000,000+\n",
            "Firefox Browser fast & private : 100,000,000+\n",
            "Ninesky Browser : 1,000,000+\n",
            "Dolphin Browser - Fast, Private & Adblock🐬 : 50,000,000+\n",
            "UC Browser - Fast Download Private & Secure : 500,000,000+\n",
            "Ghostery Privacy Browser : 1,000,000+\n",
            "InBrowser - Incognito Browsing : 1,000,000+\n",
            "Lightning Web Browser : 500,000+\n",
            "Web Browser : 500,000+\n",
            "Contacts+ : 10,000,000+\n",
            "ExDialer - Dialer & Contacts : 10,000,000+\n",
            "PHONE for Google Voice & GTalk : 1,000,000+\n",
            "Safest Call Blocker : 1,000,000+\n",
            "Full Screen Caller ID : 5,000,000+\n",
            "Hiya - Caller ID & Block : 10,000,000+\n",
            "Mr. Number-Block calls & spam : 10,000,000+\n",
            "Should I Answer? : 1,000,000+\n",
            "RocketDial Dialer & Contacts : 1,000,000+\n",
            "CIA - Caller ID & Call Blocker : 5,000,000+\n",
            "Calls Blacklist - Call Blocker : 10,000,000+\n",
            "Call Control - Call Blocker : 5,000,000+\n",
            "True Contact - Real Caller ID : 1,000,000+\n",
            "Video Caller Id : 1,000,000+\n",
            "Sync.ME – Caller ID & Block : 5,000,000+\n",
            "Burner - Free Phone Number : 1,000,000+\n",
            "Caller ID + : 1,000,000+\n",
            "Gmail : 1,000,000,000+\n",
            "K-9 Mail : 5,000,000+\n",
            "myMail – Email for Hotmail, Gmail and Outlook Mail : 10,000,000+\n",
            "Email TypeApp - Mail App : 1,000,000+\n",
            "All Email Providers : 1,000,000+\n",
            "Newton Mail - Email App for Gmail, Outlook, IMAP : 1,000,000+\n",
            "GO Notifier : 10,000,000+\n",
            "Mail.Ru - Email App : 50,000,000+\n",
            "Mail1Click - Secure Mail : 10,000+\n",
            "Daum Mail - Next Mail : 5,000,000+\n",
            "mail.com mail : 1,000,000+\n",
            "SolMail - All-in-One email app : 500,000+\n",
            "Hangouts : 1,000,000,000+\n",
            "Vonage Mobile® Call Video Text : 1,000,000+\n",
            "JusTalk - Free Video Calls and Fun Video Chat : 5,000,000+\n",
            "Azar : 50,000,000+\n",
            "LokLok: Draw on a Lock Screen : 500,000+\n",
            "Discord - Chat for Gamers : 10,000,000+\n",
            "Messenger Lite: Free Calls & Messages : 100,000,000+\n",
            "AntennaPict β : 1,000,000+\n",
            "Talkatone: Free Texts, Calls & Phone Number : 10,000,000+\n",
            "Kik : 100,000,000+\n",
            "K-@ Mail - Email App : 100,000+\n",
            "KakaoTalk: Free Calls & Text : 100,000,000+\n",
            "K-9 Material (unofficial) : 5,000+\n",
            "M star Dialer : 100,000+\n",
            "Free WiFi Connect : 10,000,000+\n",
            "m:go BiH : 10,000+\n",
            "N-Com Wizard : 50,000+\n",
            "Opera Mini - fast web browser : 100,000,000+\n",
            "Opera Browser: Fast and Secure : 100,000,000+\n",
            "Opera Mini browser beta : 10,000,000+\n",
            "Psiphon Pro - The Internet Freedom VPN : 10,000,000+\n",
            "ICQ — Video Calls & Chat Messenger : 10,000,000+\n",
            "Telegram : 100,000,000+\n",
            "AT&T Messages for Tablet : 1,000,000+\n",
            "T-Mobile DIGITS : 100,000+\n",
            "Truecaller: Caller ID, SMS spam blocking & Dialer : 100,000,000+\n",
            "Portable Wi-Fi hotspot : 10,000,000+\n",
            "AT&T Call Protect : 5,000,000+\n",
            "U - Webinars, Meetings & Messenger : 500,000+\n",
            "UC Browser Mini -Tiny Fast Private & Secure : 100,000,000+\n",
            "/u/app : 10,000+\n",
            "[verify-U] VideoIdent : 10,000+\n",
            "Viber Messenger : 500,000,000+\n",
            "WeChat : 100,000,000+\n",
            "WhatsApp Business : 10,000,000+\n",
            "WhatsCall Free Global Phone Call App & Cheap Calls : 10,000,000+\n",
            "X Browser : 50,000+\n",
            "Yahoo Mail – Stay Organized : 100,000,000+\n",
            "Free Adblocker Browser - Adblock & Popup Blocker : 10,000,000+\n",
            "Adblock Browser for Android : 10,000,000+\n",
            "CM Browser - Ad Blocker , Fast Download , Privacy : 50,000,000+\n",
            "Adblock Plus for Samsung Internet - Browse safe. : 1,000,000+\n",
            "Ad Blocker Turbo - Adblocker Browser : 10,000+\n",
            "Brave Browser: Fast AdBlocker : 5,000,000+\n",
            "AG Contacts, Lite edition : 5,000+\n",
            "Oklahoma Ag Co-op Council : 10+\n",
            "Bee'ah Employee App : 100+\n",
            "tournaments and more.aj.2 : 100+\n",
            "Aj.Petra : 100+\n",
            "AK Phone : 5,000+\n",
            "PlacarTv Futebol Ao Vivo : 100,000+\n",
            "WiFi Access Point (hotspot) : 100,000+\n",
            "Access Point Names : 10,000+\n",
            "Puffin Web Browser : 10,000,000+\n",
            "ClanHQ : 10,000+\n",
            "Ear Agent: Super Hearing : 5,000,000+\n",
            "Google Voice : 10,000,000+\n",
            "Google Allo : 10,000,000+\n",
            "AU Call Blocker - Block Unwanted Calls Texts 2018 : 1,000+\n",
            "Baby Monitor AV : 100,000+\n",
            "AV Phone : 1,000+\n",
            "AW - free video calls and chat : 1,000,000+\n",
            "Katalogen.ax : 100+\n",
            "AZ Browser. Private & Download : 100,000+\n",
            "BA SALES : 1+\n",
            "BD Data Plan (3G & 4G) : 500,000+\n",
            "BD Internet Packages (Updated) : 50,000+\n",
            "BD Dialer : 10,000+\n",
            "BD Live Call : 5,000+\n",
            "Best Browser BD social networking : 10+\n",
            "Traffic signs BD : 500+\n",
            "BF Browser by Betfilter - Stop Gambling Today! : 10,000+\n",
            "My BF App : 50,000+\n",
            "BH Mail : 1,000+\n",
            "Zalo – Video Call : 50,000,000+\n",
            "BJ - Confidential : 10+\n",
            "BK Chat : 1,000+\n",
            "Of the wall Arapaho bk : 5+\n",
            "AC-BL : 50+\n",
            "BBM - Free Calls & Messages : 100,000,000+\n",
            "DMR BrandMeister Tool : 10,000+\n",
            "BBMoji - Your personalized BBM Stickers : 1,000,000+\n",
            "BN MALLORCA Radio : 1,000+\n",
            "BQ Partners : 1,000+\n",
            "BS-Mobile : 50+\n",
            "ATC Unico BS : 500+\n",
            "BT One Voice mobile access : 5,000+\n",
            "BT Messenger : 50,000+\n",
            "BT One Phone Mobile App : 10,000+\n",
            "SW-100.tch by Callstel : 1,000,000+\n",
            "BT MeetMe with Dolby Voice : 100,000+\n",
            "Bluetooth Auto Connect : 5,000,000+\n",
            "AudioBT: BT audio GPS/SMS/Text : 50,000+\n",
            "BV : 100+\n",
            "Feel Performer : 10,000+\n",
            "Tiny Call Confirm : 1,000,000+\n",
            "CB Radio Chat - for friends! : 1,000,000+\n",
            "CB On Mobile : 100,000+\n",
            "Virtual Walkie Talkie : 1,000,000+\n",
            "Channel 19 : 100,000+\n",
            "Cb browser : 50+\n",
            "CF Chat: Connecting Friends : 100+\n",
            "retteMi.ch : 5,000+\n",
            "Chrome Dev : 5,000,000+\n",
            "CJ Browser - Fast & Private : 100+\n",
            "CJ DVD Rentals : 100+\n",
            "CK Call NEW : 10+\n",
            "CM Transfer - Share any files with friends nearby : 5,000,000+\n",
            "mail.co.uk Mail : 5,000+\n",
            "ClanPlay: Community and Tools for Gamers : 1,000,000+\n",
            "CQ-Mobile : 1,000+\n",
            "CQ-Alert : 500+\n",
            "QRZ Assistant : 100,000+\n",
            "Pocket Prefix Plus : 10,000+\n",
            "Ham Radio Prefixes : 10,000+\n",
            "CS Customizer : 1,000+\n",
            "CS Browser | #1 & BEST BROWSER : 1,000+\n",
            "CS Browser Beta : 5,000+\n",
            "My Vodafone (GR) : 1,000,000+\n",
            "IZ2UUF Morse Koch CW : 50,000+\n",
            "C W Browser : 100+\n",
            "CW Bluetooth SPP : 100+\n",
            "CW BLE Peripheral Simulator : 500+\n",
            "Morse Code Reader : 100,000+\n",
            "Learn Morse Code - G0HYN Learn Morse : 5,000+\n",
            "Ring : 10,000+\n",
            "Hyundai CX Conference : 50+\n",
            "Cy Messenger : 100+\n",
            "Amadeus GR & CY : 100+\n",
            "Hlášenírozhlasu.cz : 10+\n",
            "SMS Sender - sluzba.cz : 1,000+\n",
            "WEB.DE Mail : 10,000,000+\n",
            "Your Freedom VPN Client : 5,000,000+\n",
            "CallApp: Caller ID, Blocker & Phone Call Recorder : 10,000,000+\n",
            "Rádio Sol Nascente DF : 500+\n",
            "DG Card : 100+\n",
            "Whoscall - Caller ID & Block : 10,000,000+\n",
            "DK Browser : 10+\n",
            "cluster.dk : 1,000+\n",
            "DK TEL Dialer : 50+\n",
            "DM for WhatsApp : 5,000+\n",
            "DM Talk New : 5,000+\n",
            "DM - The Offical Messaging App : 10+\n",
            "DM Tracker : 1,000+\n",
            "Call Blocker & Blacklist : 1,000+\n",
            "ReadyOp DT : 1,000+\n",
            "DU Browser—Browse fast & fun : 10,000,000+\n",
            "Caller ID & Call Block - DU Caller : 5,000,000+\n",
            "BlueDV AMBE : 1,000+\n",
            "DW Contacts & Phone & Dialer : 1,000,000+\n",
            "Deaf World DW : 10,000+\n",
            "Ham DX Cluster & Spots Finder : 5,000+\n",
            "Mircules DX Cluster Lite : 5,000+\n",
            "3G DZ Configuration : 50,000+\n",
            "chat dz : 100+\n",
            "love sms good morning : 5,000+\n",
            "Goodbox - Mega App : 100,000+\n",
            "Call Blocker - Blacklist, SMS Blocker : 1,000,000+\n",
            "[EF]ShoutBox : 100+\n",
            "Eg Call : 10,000+\n",
            "ei : 10+\n",
            "EJ messenger : 10+\n",
            "Ek IRA : 10+\n",
            "Orfox: Tor Browser for Android : 10,000,000+\n",
            "EO Mumbai : 10+\n",
            "EP RSS Reader : 100+\n",
            "Voxer Walkie Talkie Messenger : 10,000,000+\n",
            "ES-1 : 500+\n",
            "Hangouts Dialer - Call Phones : 10,000,000+\n",
            "EU Council : 1,000+\n",
            "Council Voting Calculator : 5,000+\n",
            "Have your say on Europe : 500+\n",
            "Programi podrške EU : 100+\n",
            "Inbox.eu : 10,000+\n",
            "Web Browser for Android : 1,000,000+\n",
            "Everbridge : 100,000+\n",
            "Best Auto Call Recorder Free : 500+\n",
            "EZ Wifi Notification : 10,000+\n",
            "Test Server SMS FA : 5+\n",
            "Lite for Facebook Messenger : 1,000,000+\n",
            "FC Browser - Focus Privacy Browser : 1,000+\n",
            "EHiN-FH conferenceapp : 100+\n",
            "Carpooling FH Hagenberg : 100+\n",
            "Wi-Fi Auto-connect : 1,000,000+\n",
            "Talkie - Wi-Fi Calling, Chats, File Sharing : 500,000+\n",
            "WeFi - Free Fast WiFi Connect & Find Wi-Fi Map : 1,000,000+\n",
            "Sat-Fi : 5,000+\n",
            "Portable Wi-Fi hotspot Free : 100,000+\n",
            "TownWiFi | Wi-Fi Everywhere : 500,000+\n",
            "Jazz Wi-Fi : 10,000+\n",
            "Sat-Fi Voice : 1,000+\n",
            "Free Wi-fi HotspoT : 50,000+\n",
            "FN Web Radio : 10+\n",
            "FNH Payment Info : 10+\n",
            "MARKET FO : 100+\n",
            "FO OP St-Nazaire : 100+\n",
            "FO SODEXO : 100+\n",
            "FO RCBT : 100+\n",
            "FO Interim : 100+\n",
            "FO PSA Sept-Fons : 100+\n",
            "FO AIRBUS TLSE : 1,000+\n",
            "FO STELIA Méaulte : 100+\n",
            "FO AIRBUS Nantes : 100+\n",
            "Firefox Focus: The privacy browser : 1,000,000+\n",
            "FP Connect : 100+\n",
            "FreedomPop Messaging Phone/SIM : 500,000+\n",
            "FP Live : 10+\n",
            "HipChat - beta version : 50,000+\n"
          ],
          "name": "stdout"
        }
      ]
    },
    {
      "cell_type": "markdown",
      "metadata": {
        "id": "2nVEZ4zpkkHl",
        "colab_type": "text"
      },
      "source": [
        "**Conclusion**\n",
        "\n",
        "We would like to create a free app that generate the most revenue from adds.  We used the Apple Store and Google Play data sets to find a profile of the most popular free apps.  We used the category and genre data, the number of ratings, and the number of installs to find out the profile of the apps that can have a high user traffic.\n",
        "\n",
        "From both data sets, we saw the social networking and communication apps are very popular.  These apps having a high user traffic are those created by big companies.  However, there may be an oppotunity to create a social networking app that has a potenial to generate high revenue if we specialize our user target.\n",
        "\n",
        "We can exclude those apps crated by big companies to do an analysis.  In addition, We need more specific information about ads in the apps such as how many users clicked the adds and how much money was spent by the usersin a paticular genre of apps.\n"
      ]
    }
  ]
}